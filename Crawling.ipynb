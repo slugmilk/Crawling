{
 "cells": [
  {
   "cell_type": "markdown",
   "id": "38587601-632d-4cdc-b26b-6f29af51afb3",
   "metadata": {},
   "source": [
    "# 1. Git\n",
    "* 버전 관리 시스템의 종류\n",
    "* 버전 관리: 여러 파일을 하나의 버전으로 묶어 관리하는 것"
   ]
  },
  {
   "cell_type": "markdown",
   "id": "a0c54f9f-665e-4083-b878-55e245d3fad2",
   "metadata": {},
   "source": [
    "### 1-1. 버전 관리 시스템의 종류\n",
    "1. 클라이언트 - 서버 모델: 하나의 중앙 서버로 여러 클라리언트(작업자)들이 각자 필요한 것만 가져와서 작업을하고 다시 중앙 서버로 보내서 통합하는 방식(SVN, CVS)\n",
    "2. 분산 모델: 하나의 중앙 서버가 존재하지만, 여러 클라이언트들은 각자의 컴퓨터 저장소에 전체 사본을 가지고 작업하는 방식(Git)"
   ]
  },
  {
   "cell_type": "markdown",
   "id": "527bc090-a687-47ab-9b0a-12301ece794f",
   "metadata": {},
   "source": [
    "### 1-2. Git의 장점\n",
    "* 동시에 작업하는 사람들과 소스코드를 주고받을 필요가 없음\n",
    "* 같은 파일을 여러명이 동시에 병렬 개발이 가능\n",
    "* 변동 과정을 체계적으로 관리할 수 있고, 언제든지 지난 시점의 버전으로 되돌릴 수 있음\n",
    "* 인터넷이 연결되지 않은 곳에서도 개발을 진행할 수 있고, 중앙 서버의 데이터가 유실되어도 다시 복구할 수 있음\n",
    "  "
   ]
  },
  {
   "cell_type": "markdown",
   "id": "c4daff04-5b9f-4d6c-be38-560b2692b3bd",
   "metadata": {},
   "source": [
    "### 1-3. Git 설치\n",
    "1. 구글에서 'git 설치' 검색\n",
    "2. 왼쪽 메뉴에서 downloads 클릭\n",
    "3. 모니터 이미지에 있는 다운로드 버튼 클릭\n",
    "4. 64-bit Git for Windows Setup 클릭 후 다운로드 및 설치(기본 설정)\n",
    "5. 설치가 끝난 후 git bash 실행 -> git --version 명령으로 버전 확인"
   ]
  },
  {
   "cell_type": "markdown",
   "id": "80f51cb3-aedb-488a-bbe7-7dd17530975c",
   "metadata": {},
   "source": [
    "# **Git 명령어**"
   ]
  },
  {
   "cell_type": "markdown",
   "id": "0004b9d9-f3de-44a5-a615-2fc805d06a97",
   "metadata": {},
   "source": [
    "### 2-1. 프로젝트 디렉토리 내 '로컬 저장소'를 생성하기\n",
    "- 원하는 프로젝트 위치로 이동 후 'git init'를 실행"
   ]
  },
  {
   "cell_type": "code",
   "execution_count": 1,
   "id": "1ab2b584-7bf3-44e2-a5ab-1a8984e4b253",
   "metadata": {},
   "outputs": [
    {
     "name": "stdout",
     "output_type": "stream",
     "text": [
      "Initialized empty Git repository in D:/slugmilk/Jupyter/.git/\n"
     ]
    }
   ],
   "source": [
    "!git init"
   ]
  },
  {
   "cell_type": "markdown",
   "id": "cb484539-ad96-479c-90f4-3f620d33b834",
   "metadata": {},
   "source": [
    "### 2-2. 버전을 관리할 파일을 선택(stage에 올림)"
   ]
  },
  {
   "cell_type": "code",
   "execution_count": 2,
   "id": "b2328e6f-26be-48e6-954c-175e422fe538",
   "metadata": {},
   "outputs": [
    {
     "name": "stderr",
     "output_type": "stream",
     "text": [
      "warning: in the working copy of 'Crawling.ipynb', LF will be replaced by CRLF the next time Git touches it\n"
     ]
    }
   ],
   "source": [
    "!git add Crawling.ipynb"
   ]
  },
  {
   "cell_type": "markdown",
   "id": "04019a8f-24a5-4f46-9aef-537858ffd09a",
   "metadata": {},
   "source": [
    "### 2-3. 하나의 버전으로 만들기\n",
    "* 로컬 시스템에서 파일을 생성/수정/삭제한 파일들을 선별하여 버전을 만드는 것\n",
    "* 파일이 변경될 때 변경 사항은 자동으로 저장되지 않음\n",
    "* git에게 새 커밋을 생성하여 변경 사항을 저장하도록 지시"
   ]
  },
  {
   "cell_type": "code",
   "execution_count": 3,
   "id": "8d044b00-b9cf-40d7-bb62-f4dd4482eb4c",
   "metadata": {},
   "outputs": [
    {
     "name": "stdout",
     "output_type": "stream",
     "text": [
      "[master (root-commit) c000418] 泥� 而ㅻ컠\n",
      " 1 file changed, 114 insertions(+)\n",
      " create mode 100644 Crawling.ipynb\n"
     ]
    }
   ],
   "source": [
    "!git commit -m \"첫 커밋\""
   ]
  },
  {
   "cell_type": "markdown",
   "id": "a8f487e8-70cd-4648-9407-b8c9aec6bd92",
   "metadata": {},
   "source": [
    "### 2-4. 로그 확인하기"
   ]
  },
  {
   "cell_type": "code",
   "execution_count": 5,
   "id": "fcc14921-6740-4ffd-a30f-7e5f8fbf8f10",
   "metadata": {},
   "outputs": [
    {
     "name": "stdout",
     "output_type": "stream",
     "text": [
      "commit c000418b853928c9ecba6fd40db3c89d40ad0357\n",
      "Author: slugmilk <115162335+slugmilk@users.noreply.github.com>\n",
      "Date:   Tue Oct 1 19:57:34 2024 +0900\n",
      "\n",
      "    泥� 而ㅻ컠\n"
     ]
    }
   ],
   "source": [
    "!git log"
   ]
  },
  {
   "cell_type": "markdown",
   "id": "d3e255ec-8d31-4432-9f3f-2b5205391a42",
   "metadata": {},
   "source": [
    "### 2-5. README.md 만들기\n",
    "* 깃허브에 업로드시 저장소 메인 설명들로 사용되는 파일\n",
    "* 마크다운으로 작성"
   ]
  },
  {
   "cell_type": "code",
   "execution_count": null,
   "id": "65b4de62-0644-436b-a9dd-21fb00badafc",
   "metadata": {},
   "outputs": [],
   "source": []
  }
 ],
 "metadata": {
  "kernelspec": {
   "display_name": "Python 3 (ipykernel)",
   "language": "python",
   "name": "python3"
  },
  "language_info": {
   "codemirror_mode": {
    "name": "ipython",
    "version": 3
   },
   "file_extension": ".py",
   "mimetype": "text/x-python",
   "name": "python",
   "nbconvert_exporter": "python",
   "pygments_lexer": "ipython3",
   "version": "3.10.11"
  }
 },
 "nbformat": 4,
 "nbformat_minor": 5
}
