{
 "cells": [
  {
   "cell_type": "markdown",
   "id": "38587601-632d-4cdc-b26b-6f29af51afb3",
   "metadata": {},
   "source": [
    "# 1. Git\n",
    "* 버전 관리 시스템의 종류\n",
    "* 버전 관리: 여러 파일을 하나의 버전으로 묶어 관리하는 것"
   ]
  },
  {
   "cell_type": "markdown",
   "id": "a0c54f9f-665e-4083-b878-55e245d3fad2",
   "metadata": {},
   "source": [
    "### 1-1. 버전 관리 시스템의 종류\n",
    "1. 클라이언트 - 서버 모델: 하나의 중앙 서버로 여러 클라리언트(작업자)들이 각자 필요한 것만 가져와서 작업을하고 다시 중앙 서버로 보내서 통합하는 방식(SVN, CVS)\n",
    "2. 분산 모델: 하나의 중앙 서버가 존재하지만, 여러 클라이언트들은 각자의 컴퓨터 저장소에 전체 사본을 가지고 작업하는 방식(Git)"
   ]
  },
  {
   "cell_type": "markdown",
   "id": "527bc090-a687-47ab-9b0a-12301ece794f",
   "metadata": {},
   "source": [
    "### 1-2. Git의 장점\n",
    "* 동시에 작업하는 사람들과 소스코드를 주고받을 필요가 없음\n",
    "* 같은 파일을 여러명이 동시에 병렬 개발이 가능\n",
    "* 변동 과정을 체계적으로 관리할 수 있고, 언제든지 지난 시점의 버전으로 되돌릴 수 있음\n",
    "* 인터넷이 연결되지 않은 곳에서도 개발을 진행할 수 있고, 중앙 서버의 데이터가 유실되어도 다시 복구할 수 있음\n",
    "  "
   ]
  },
  {
   "cell_type": "markdown",
   "id": "c4daff04-5b9f-4d6c-be38-560b2692b3bd",
   "metadata": {},
   "source": [
    "### 1-3. Git 설치\n",
    "1. 구글에서 'git 설치' 검색\n",
    "2. 왼쪽 메뉴에서 downloads 클릭\n",
    "3. 모니터 이미지에 있는 다운로드 버튼 클릭\n",
    "4. 64-bit Git for Windows Setup 클릭 후 다운로드 및 설치(기본 설정)\n",
    "5. 설치가 끝난 후 git bash 실행 -> git --version 명령으로 버전 확인"
   ]
  },
  {
   "cell_type": "markdown",
   "id": "80f51cb3-aedb-488a-bbe7-7dd17530975c",
   "metadata": {},
   "source": [
    "# **Git 명령어**"
   ]
  },
  {
   "cell_type": "markdown",
   "id": "0004b9d9-f3de-44a5-a615-2fc805d06a97",
   "metadata": {},
   "source": [
    "### 2-1. 프로젝트 디렉토리 내 '로컬 저장소'를 생성하기\n",
    "- 원하는 프로젝트 위치로 이동 후 'git init'를 실행"
   ]
  },
  {
   "cell_type": "code",
   "execution_count": 1,
   "id": "1ab2b584-7bf3-44e2-a5ab-1a8984e4b253",
   "metadata": {},
   "outputs": [
    {
     "name": "stdout",
     "output_type": "stream",
     "text": [
      "Initialized empty Git repository in D:/slugmilk/Jupyter/.git/\n"
     ]
    }
   ],
   "source": [
    "!git init"
   ]
  },
  {
   "cell_type": "markdown",
   "id": "cb484539-ad96-479c-90f4-3f620d33b834",
   "metadata": {},
   "source": [
    "### 2-2. 버전을 관맇"
   ]
  }
 ],
 "metadata": {
  "kernelspec": {
   "display_name": "Python 3 (ipykernel)",
   "language": "python",
   "name": "python3"
  },
  "language_info": {
   "codemirror_mode": {
    "name": "ipython",
    "version": 3
   },
   "file_extension": ".py",
   "mimetype": "text/x-python",
   "name": "python",
   "nbconvert_exporter": "python",
   "pygments_lexer": "ipython3",
   "version": "3.10.11"
  }
 },
 "nbformat": 4,
 "nbformat_minor": 5
}
